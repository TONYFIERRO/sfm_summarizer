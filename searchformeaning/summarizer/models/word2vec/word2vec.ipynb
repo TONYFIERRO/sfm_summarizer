{
 "cells": [
  {
   "cell_type": "markdown",
   "id": "417b7a14-cdef-4843-ab6b-e756eded89ed",
   "metadata": {},
   "source": [
    "---\n",
    "**Creating a dataset**"
   ]
  },
  {
   "cell_type": "code",
   "execution_count": 1,
   "id": "44a36ec6-0b13-4145-ab4b-a29e9b8cc377",
   "metadata": {
    "tags": []
   },
   "outputs": [],
   "source": [
    "import spacy\n",
    "import csv\n",
    "import pandas as pd\n",
    "import numpy as np\n",
    "import re\n",
    "from collections import defaultdict\n",
    "from pymorphy3 import MorphAnalyzer\n",
    "import warnings\n",
    "warnings.filterwarnings(\"ignore\")\n",
    "nlp = spacy.load(\"ru_core_news_lg\")\n",
    "all_stopwords = nlp.Defaults.stop_words"
   ]
  },
  {
   "cell_type": "code",
   "execution_count": 2,
   "id": "d10ea090-2392-4556-9f42-1ff87371959d",
   "metadata": {
    "tags": []
   },
   "outputs": [],
   "source": [
    "df = pd.read_csv('lenta-ru-news.csv')"
   ]
  },
  {
   "cell_type": "code",
   "execution_count": 3,
   "id": "57065dd6-8e09-4b4f-b756-c10cf1f45cdd",
   "metadata": {
    "tags": []
   },
   "outputs": [
    {
     "data": {
      "text/html": [
       "<div>\n",
       "<style scoped>\n",
       "    .dataframe tbody tr th:only-of-type {\n",
       "        vertical-align: middle;\n",
       "    }\n",
       "\n",
       "    .dataframe tbody tr th {\n",
       "        vertical-align: top;\n",
       "    }\n",
       "\n",
       "    .dataframe thead th {\n",
       "        text-align: right;\n",
       "    }\n",
       "</style>\n",
       "<table border=\"1\" class=\"dataframe\">\n",
       "  <thead>\n",
       "    <tr style=\"text-align: right;\">\n",
       "      <th></th>\n",
       "      <th>url</th>\n",
       "      <th>title</th>\n",
       "      <th>text</th>\n",
       "      <th>topic</th>\n",
       "      <th>tags</th>\n",
       "      <th>date</th>\n",
       "    </tr>\n",
       "  </thead>\n",
       "  <tbody>\n",
       "    <tr>\n",
       "      <th>0</th>\n",
       "      <td>https://lenta.ru/news/1914/09/16/hungarnn/</td>\n",
       "      <td>1914. Русские войска вступили в пределы Венгрии</td>\n",
       "      <td>Бои у Сопоцкина и Друскеник закончились отступ...</td>\n",
       "      <td>Библиотека</td>\n",
       "      <td>Первая мировая</td>\n",
       "      <td>1914/09/16</td>\n",
       "    </tr>\n",
       "    <tr>\n",
       "      <th>1</th>\n",
       "      <td>https://lenta.ru/news/1914/09/16/lermontov/</td>\n",
       "      <td>1914. Празднование столетия М.Ю. Лермонтова от...</td>\n",
       "      <td>Министерство народного просвещения, в виду про...</td>\n",
       "      <td>Библиотека</td>\n",
       "      <td>Первая мировая</td>\n",
       "      <td>1914/09/16</td>\n",
       "    </tr>\n",
       "    <tr>\n",
       "      <th>2</th>\n",
       "      <td>https://lenta.ru/news/1914/09/17/nesteroff/</td>\n",
       "      <td>1914. Das ist Nesteroff!</td>\n",
       "      <td>Штабс-капитан П. Н. Нестеров на днях, увидев в...</td>\n",
       "      <td>Библиотека</td>\n",
       "      <td>Первая мировая</td>\n",
       "      <td>1914/09/17</td>\n",
       "    </tr>\n",
       "    <tr>\n",
       "      <th>3</th>\n",
       "      <td>https://lenta.ru/news/1914/09/17/bulldogn/</td>\n",
       "      <td>1914. Бульдог-гонец под Льежем</td>\n",
       "      <td>Фотограф-корреспондент Daily Mirror рассказыва...</td>\n",
       "      <td>Библиотека</td>\n",
       "      <td>Первая мировая</td>\n",
       "      <td>1914/09/17</td>\n",
       "    </tr>\n",
       "    <tr>\n",
       "      <th>4</th>\n",
       "      <td>https://lenta.ru/news/1914/09/18/zver/</td>\n",
       "      <td>1914. Под Люблином пойман швабский зверь</td>\n",
       "      <td>Лица, приехавшие в Варшаву из Люблина, передаю...</td>\n",
       "      <td>Библиотека</td>\n",
       "      <td>Первая мировая</td>\n",
       "      <td>1914/09/18</td>\n",
       "    </tr>\n",
       "  </tbody>\n",
       "</table>\n",
       "</div>"
      ],
      "text/plain": [
       "                                           url  \\\n",
       "0   https://lenta.ru/news/1914/09/16/hungarnn/   \n",
       "1  https://lenta.ru/news/1914/09/16/lermontov/   \n",
       "2  https://lenta.ru/news/1914/09/17/nesteroff/   \n",
       "3   https://lenta.ru/news/1914/09/17/bulldogn/   \n",
       "4       https://lenta.ru/news/1914/09/18/zver/   \n",
       "\n",
       "                                               title  \\\n",
       "0  1914. Русские войска вступили в пределы Венгрии     \n",
       "1  1914. Празднование столетия М.Ю. Лермонтова от...   \n",
       "2                           1914. Das ist Nesteroff!   \n",
       "3                    1914. Бульдог-гонец под Льежем    \n",
       "4           1914. Под Люблином пойман швабский зверь   \n",
       "\n",
       "                                                text       topic  \\\n",
       "0  Бои у Сопоцкина и Друскеник закончились отступ...  Библиотека   \n",
       "1  Министерство народного просвещения, в виду про...  Библиотека   \n",
       "2  Штабс-капитан П. Н. Нестеров на днях, увидев в...  Библиотека   \n",
       "3  Фотограф-корреспондент Daily Mirror рассказыва...  Библиотека   \n",
       "4  Лица, приехавшие в Варшаву из Люблина, передаю...  Библиотека   \n",
       "\n",
       "             tags        date  \n",
       "0  Первая мировая  1914/09/16  \n",
       "1  Первая мировая  1914/09/16  \n",
       "2  Первая мировая  1914/09/17  \n",
       "3  Первая мировая  1914/09/17  \n",
       "4  Первая мировая  1914/09/18  "
      ]
     },
     "execution_count": 3,
     "metadata": {},
     "output_type": "execute_result"
    }
   ],
   "source": [
    "df.head()"
   ]
  },
  {
   "cell_type": "code",
   "execution_count": 4,
   "id": "abbdfa1f-0491-4b43-9a61-374ed36d795e",
   "metadata": {
    "tags": []
   },
   "outputs": [],
   "source": [
    "texts = df['text'][:100000]"
   ]
  },
  {
   "cell_type": "code",
   "execution_count": 7,
   "id": "3c57c276-b898-4d85-a243-928ad84116a8",
   "metadata": {
    "tags": []
   },
   "outputs": [],
   "source": [
    "texts = texts.dropna()"
   ]
  },
  {
   "cell_type": "code",
   "execution_count": 8,
   "id": "af329c61-fb51-4fca-978a-1cc75827ff05",
   "metadata": {
    "tags": []
   },
   "outputs": [],
   "source": [
    "morph = MorphAnalyzer()\n",
    "punctuation_list = ['.', ',', ':', '?', '!', ';', '(', ')', '[', ']', '{', '}', '-', '―']\n",
    "pattern = r'[A-Za-z0-9!#$%&\\'()*+«»,…./:;<=>№?@[\\]^_`{|}~—\\\"\\-]+'"
   ]
  },
  {
   "cell_type": "code",
   "execution_count": 9,
   "id": "d8ed368f-17cf-4fd2-8492-af73bc4c55fc",
   "metadata": {
    "tags": []
   },
   "outputs": [],
   "source": [
    "def toProcess(text):\n",
    "    text_edited = re.sub(pattern, ' ', text).strip()\n",
    "    \n",
    "    #  Separating the text on the sentences\n",
    "    text_splitted = text_edited.split('.')\n",
    "\n",
    "    # Tokenization\n",
    "    wordbase = list()\n",
    "    for sentence in text_splitted:\n",
    "        tokens = sentence.strip().split()\n",
    "        \n",
    "        #  Lemmatization\n",
    "        for token in tokens:\n",
    "            token_lemmatized = morph.normal_forms(token)[0]\n",
    "            \n",
    "            if token_lemmatized not in wordbase and token_lemmatized not in all_stopwords:\n",
    "                if len(token_lemmatized) >= 3:\n",
    "                    wordbase.append(token_lemmatized)\n",
    "    return wordbase"
   ]
  },
  {
   "cell_type": "code",
   "execution_count": 10,
   "id": "884c67d6-2efc-4561-bb84-f7e44b777932",
   "metadata": {
    "tags": []
   },
   "outputs": [],
   "source": [
    "result = texts.apply(toProcess)"
   ]
  },
  {
   "cell_type": "code",
   "execution_count": 11,
   "id": "c4e7bbdf-b44e-4bd0-bf63-785c961058de",
   "metadata": {
    "tags": []
   },
   "outputs": [],
   "source": [
    "def export_format(text):\n",
    "    return ' '.join(text)\n",
    "\n",
    "export = result.apply(export_format)\n",
    "export.to_csv('words.csv')"
   ]
  },
  {
   "cell_type": "markdown",
   "id": "8bcca665-b128-40b4-90e0-7a837d5046d2",
   "metadata": {},
   "source": [
    "---\n",
    "**Top words**"
   ]
  },
  {
   "cell_type": "code",
   "execution_count": 12,
   "id": "aa9f6856-4336-4ae8-bf1e-1269db2da998",
   "metadata": {
    "tags": []
   },
   "outputs": [],
   "source": [
    "words_dict = defaultdict(int)\n",
    "for token_set in result:\n",
    "    for token in token_set:\n",
    "        words_dict[token] += 1"
   ]
  },
  {
   "cell_type": "code",
   "execution_count": 13,
   "id": "7c927b6a-167a-4209-814f-a8f3ecab17c5",
   "metadata": {
    "tags": []
   },
   "outputs": [
    {
     "data": {
      "text/plain": [
       "148724"
      ]
     },
     "execution_count": 13,
     "metadata": {},
     "output_type": "execute_result"
    }
   ],
   "source": [
    "len(words_dict)"
   ]
  },
  {
   "cell_type": "code",
   "execution_count": 14,
   "id": "8983d8a2-5203-4782-becd-33e75b71ba99",
   "metadata": {
    "tags": []
   },
   "outputs": [
    {
     "data": {
      "text/plain": [
       "['сообщать', 'год', 'время', 'заявить', 'сообщить']"
      ]
     },
     "execution_count": 14,
     "metadata": {},
     "output_type": "execute_result"
    }
   ],
   "source": [
    "sorted(words_dict, key=words_dict.get, reverse=True)[:5]"
   ]
  },
  {
   "cell_type": "markdown",
   "id": "23e08a05-a101-4390-b98f-0fa1e37f5809",
   "metadata": {},
   "source": [
    "---\n",
    "**Training a model Word2Vec**"
   ]
  },
  {
   "cell_type": "code",
   "execution_count": 2,
   "id": "09682e37-9c67-464b-ae9f-8b1253c998bb",
   "metadata": {
    "tags": []
   },
   "outputs": [],
   "source": [
    "from gensim.models import Word2Vec"
   ]
  },
  {
   "cell_type": "code",
   "execution_count": 3,
   "id": "dff22027-73a3-44d7-8d72-9065f27315e1",
   "metadata": {
    "tags": []
   },
   "outputs": [
    {
     "data": {
      "text/html": [
       "<div>\n",
       "<style scoped>\n",
       "    .dataframe tbody tr th:only-of-type {\n",
       "        vertical-align: middle;\n",
       "    }\n",
       "\n",
       "    .dataframe tbody tr th {\n",
       "        vertical-align: top;\n",
       "    }\n",
       "\n",
       "    .dataframe thead th {\n",
       "        text-align: right;\n",
       "    }\n",
       "</style>\n",
       "<table border=\"1\" class=\"dataframe\">\n",
       "  <thead>\n",
       "    <tr style=\"text-align: right;\">\n",
       "      <th></th>\n",
       "      <th>text</th>\n",
       "    </tr>\n",
       "  </thead>\n",
       "  <tbody>\n",
       "    <tr>\n",
       "      <th>0</th>\n",
       "      <td>бой сопоцкина друскеник закончиться отступлени...</td>\n",
       "    </tr>\n",
       "    <tr>\n",
       "      <th>1</th>\n",
       "      <td>министерство народный просвещение вид происход...</td>\n",
       "    </tr>\n",
       "    <tr>\n",
       "      <th>2</th>\n",
       "      <td>штабс капитан нестеров день увидеть район желт...</td>\n",
       "    </tr>\n",
       "    <tr>\n",
       "      <th>3</th>\n",
       "      <td>фотограф корреспондент рассказывать случай пор...</td>\n",
       "    </tr>\n",
       "    <tr>\n",
       "      <th>4</th>\n",
       "      <td>лицо приехать варшава люблин передавать достав...</td>\n",
       "    </tr>\n",
       "  </tbody>\n",
       "</table>\n",
       "</div>"
      ],
      "text/plain": [
       "                                                text\n",
       "0  бой сопоцкина друскеник закончиться отступлени...\n",
       "1  министерство народный просвещение вид происход...\n",
       "2  штабс капитан нестеров день увидеть район желт...\n",
       "3  фотограф корреспондент рассказывать случай пор...\n",
       "4  лицо приехать варшава люблин передавать достав..."
      ]
     },
     "execution_count": 3,
     "metadata": {},
     "output_type": "execute_result"
    }
   ],
   "source": [
    "words_df = pd.read_csv('words.csv', usecols=['text'])\n",
    "words_df.head()"
   ]
  },
  {
   "cell_type": "code",
   "execution_count": 4,
   "id": "dafb4a8f-54d3-4073-ba14-5cf03ea6856c",
   "metadata": {
    "tags": []
   },
   "outputs": [
    {
     "name": "stdout",
     "output_type": "stream",
     "text": [
      "100000\n",
      "99895\n"
     ]
    }
   ],
   "source": [
    "print(len(words_df))\n",
    "words_df = words_df[words_df.text.str.len() > 2]\n",
    "print(len(words_df))"
   ]
  },
  {
   "cell_type": "code",
   "execution_count": 5,
   "id": "bdcbd20a-4ae3-4b27-ac83-e61ac668e457",
   "metadata": {
    "tags": []
   },
   "outputs": [
    {
     "data": {
      "text/plain": [
       "0    [бой, сопоцкина, друскеник, закончиться, отсту...\n",
       "1    [министерство, народный, просвещение, вид, про...\n",
       "2    [штабс, капитан, нестеров, день, увидеть, райо...\n",
       "3    [фотограф, корреспондент, рассказывать, случай...\n",
       "4    [лицо, приехать, варшава, люблин, передавать, ...\n",
       "Name: text, dtype: object"
      ]
     },
     "execution_count": 5,
     "metadata": {},
     "output_type": "execute_result"
    }
   ],
   "source": [
    "def import_format(text):\n",
    "    return text.split()\n",
    "words_df = words_df['text'].apply(import_format)\n",
    "words_df.head()"
   ]
  },
  {
   "cell_type": "code",
   "execution_count": 6,
   "id": "76150d4c-9112-4cfc-92b7-08ecc33175be",
   "metadata": {
    "tags": []
   },
   "outputs": [],
   "source": [
    "model = Word2Vec(\n",
    "    min_count=10,\n",
    "    window=2,\n",
    "    vector_size=300,\n",
    "    negative=10,\n",
    "    alpha=0.03,\n",
    "    min_alpha=0.0007,\n",
    "    sample=6e-5,\n",
    "    sg=1)"
   ]
  },
  {
   "cell_type": "code",
   "execution_count": 7,
   "id": "42bff559-98b6-4e98-b95f-e7530d759394",
   "metadata": {
    "tags": []
   },
   "outputs": [],
   "source": [
    "model.build_vocab(words_df)"
   ]
  },
  {
   "cell_type": "code",
   "execution_count": 8,
   "id": "0b17c3c4-fab2-47c1-a261-a31c328f9dd9",
   "metadata": {
    "tags": []
   },
   "outputs": [
    {
     "data": {
      "text/plain": [
       "(153440060, 240673680)"
      ]
     },
     "execution_count": 8,
     "metadata": {},
     "output_type": "execute_result"
    }
   ],
   "source": [
    "model.train(words_df, total_examples=model.corpus_count, epochs=30, report_delay=1)"
   ]
  },
  {
   "cell_type": "code",
   "execution_count": 30,
   "id": "b00a36f2-3992-464b-87bc-5ad3052cce85",
   "metadata": {
    "tags": []
   },
   "outputs": [
    {
     "data": {
      "text/plain": [
       "[('министр', 0.6184762716293335),\n",
       " ('ведомство', 0.5176082849502563),\n",
       " ('департамент', 0.5128709673881531),\n",
       " ('оборона', 0.4982307255268097),\n",
       " ('замминистра', 0.49637529253959656),\n",
       " ('правительство', 0.4938677251338959),\n",
       " ('абсорбция', 0.4652884900569916),\n",
       " ('юстиция', 0.44359302520751953),\n",
       " ('управление', 0.44205033779144287),\n",
       " ('минобороны', 0.43186822533607483)]"
      ]
     },
     "execution_count": 30,
     "metadata": {},
     "output_type": "execute_result"
    }
   ],
   "source": [
    "model.wv.most_similar(positive=[\"министерство\"])"
   ]
  },
  {
   "cell_type": "code",
   "execution_count": 10,
   "id": "d4c2a7ce-52bd-4f12-8a76-5320dd27e5b4",
   "metadata": {
    "tags": []
   },
   "outputs": [
    {
     "data": {
      "text/plain": [
       "(27867, 300)"
      ]
     },
     "execution_count": 10,
     "metadata": {},
     "output_type": "execute_result"
    }
   ],
   "source": [
    "model.wv.vectors.shape"
   ]
  },
  {
   "cell_type": "code",
   "execution_count": 11,
   "id": "971d80b8-8d42-4110-bb23-58e48ac321a6",
   "metadata": {
    "tags": []
   },
   "outputs": [],
   "source": [
    "# model.init_sims(replace=True)\n",
    "model.save('w2v.model')"
   ]
  },
  {
   "cell_type": "markdown",
   "id": "3cb3c3f3-7228-4b66-9aaf-86df0345b0f7",
   "metadata": {},
   "source": [
    "---\n",
    "**Loading the model Word2Vec**"
   ]
  },
  {
   "cell_type": "code",
   "execution_count": 12,
   "id": "a7e992d1-1d32-4944-90db-4c42e6e6f551",
   "metadata": {
    "tags": []
   },
   "outputs": [],
   "source": [
    "model_loaded = Word2Vec.load('w2v.model')"
   ]
  },
  {
   "cell_type": "code",
   "execution_count": 13,
   "id": "0e4ce620-fa62-4756-baf8-cb5f718cfcab",
   "metadata": {
    "tags": []
   },
   "outputs": [],
   "source": [
    "model_loaded.build_vocab(words_df, update=True)"
   ]
  },
  {
   "cell_type": "code",
   "execution_count": 25,
   "id": "ca04c723-1435-4110-a69a-a7e7edc39905",
   "metadata": {
    "tags": []
   },
   "outputs": [
    {
     "data": {
      "text/plain": [
       "(2005820, 5072880)"
      ]
     },
     "execution_count": 25,
     "metadata": {},
     "output_type": "execute_result"
    }
   ],
   "source": [
    "model_loaded.train(words_df, total_examples=model_loaded.corpus_count, epochs=30, report_delay=1)"
   ]
  },
  {
   "cell_type": "code",
   "execution_count": 15,
   "id": "49ad5b55-c1ab-4f1e-aa3d-0d5fa513878d",
   "metadata": {
    "tags": []
   },
   "outputs": [
    {
     "data": {
      "text/plain": [
       "[('министр', 0.6184762716293335),\n",
       " ('ведомство', 0.5176082849502563),\n",
       " ('департамент', 0.5128709673881531),\n",
       " ('оборона', 0.4982307255268097),\n",
       " ('замминистра', 0.49637529253959656),\n",
       " ('правительство', 0.4938677251338959),\n",
       " ('абсорбция', 0.4652884900569916),\n",
       " ('юстиция', 0.44359302520751953),\n",
       " ('управление', 0.44205033779144287),\n",
       " ('минобороны', 0.43186822533607483)]"
      ]
     },
     "execution_count": 15,
     "metadata": {},
     "output_type": "execute_result"
    }
   ],
   "source": [
    "model_loaded.wv.most_similar(positive=[\"министерство\"])"
   ]
  },
  {
   "cell_type": "code",
   "execution_count": 14,
   "id": "3d9cda7e-01e9-4279-80cd-9117c52b6832",
   "metadata": {
    "tags": []
   },
   "outputs": [
    {
     "data": {
      "text/plain": [
       "(27867, 300)"
      ]
     },
     "execution_count": 14,
     "metadata": {},
     "output_type": "execute_result"
    }
   ],
   "source": [
    "model_loaded.wv.vectors.shape"
   ]
  },
  {
   "cell_type": "code",
   "execution_count": null,
   "id": "c3d7c30b-743d-47c5-b68c-451970a50647",
   "metadata": {},
   "outputs": [],
   "source": [
    "model_loaded.save('w2v.model')"
   ]
  },
  {
   "cell_type": "markdown",
   "id": "be4e1b9d-f75d-4e6a-9904-afc5e61d3136",
   "metadata": {},
   "source": [
    "---"
   ]
  },
  {
   "cell_type": "code",
   "execution_count": null,
   "id": "619cbd50-54f5-487d-b326-f4f321a3fdef",
   "metadata": {},
   "outputs": [],
   "source": []
  }
 ],
 "metadata": {
  "kernelspec": {
   "display_name": "Python 3 (ipykernel)",
   "language": "python",
   "name": "python3"
  },
  "language_info": {
   "codemirror_mode": {
    "name": "ipython",
    "version": 3
   },
   "file_extension": ".py",
   "mimetype": "text/x-python",
   "name": "python",
   "nbconvert_exporter": "python",
   "pygments_lexer": "ipython3",
   "version": "3.11.2"
  }
 },
 "nbformat": 4,
 "nbformat_minor": 5
}
